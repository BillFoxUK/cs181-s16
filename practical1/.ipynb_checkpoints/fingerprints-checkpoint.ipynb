{
 "cells": [
  {
   "cell_type": "code",
   "execution_count": null,
   "metadata": {
    "collapsed": true
   },
   "outputs": [],
   "source": [
    "import pandas as pd\n",
    "import numpy as np\n",
    "from rdkit import DataStructs, Chem\n",
    "from rdkit.Chem import AllChem"
   ]
  },
  {
   "cell_type": "code",
   "execution_count": null,
   "metadata": {
    "collapsed": false
   },
   "outputs": [],
   "source": [
    "df_train = pd.read_csv(\"train.csv\")"
   ]
  },
  {
   "cell_type": "code",
   "execution_count": null,
   "metadata": {
    "collapsed": false
   },
   "outputs": [],
   "source": [
    "df_train_sub = df_train\n",
    "smiles = df_train_sub['smiles'].values\n",
    "mols = [Chem.MolFromSmiles(smile) for smile in smiles]\n",
    "fps = [AllChem.GetMorganFingerprintAsBitVect(mol, 2) for mol in mols]\n",
    "vals = np.array([[int(num) for num in list(fp.ToBitString())] for fp in fps])"
   ]
  },
  {
   "cell_type": "code",
   "execution_count": null,
   "metadata": {
    "collapsed": false
   },
   "outputs": [],
   "source": [
    "cols = ['feat_'+str(i+1) for i in range(2048)]\n",
    "df = pd.DataFrame(vals, columns=cols)\n",
    "df['smiles'] = df_train_sub['smiles']\n",
    "df['gap'] = df_train_sub['gap']\n",
    "df = df.set_index('smiles')\n",
    "df.to_csv(\"train_2048.csv\")"
   ]
  },
  {
   "cell_type": "code",
   "execution_count": null,
   "metadata": {
    "collapsed": true
   },
   "outputs": [],
   "source": [
    "df_test = pd.read_csv(\"test.csv\")"
   ]
  },
  {
   "cell_type": "code",
   "execution_count": null,
   "metadata": {
    "collapsed": true
   },
   "outputs": [],
   "source": [
    "df_test_sub = df_test"
   ]
  },
  {
   "cell_type": "code",
   "execution_count": null,
   "metadata": {
    "collapsed": false
   },
   "outputs": [],
   "source": [
    "smiles = df_test_sub['smiles'].values\n",
    "mols = [Chem.MolFromSmiles(smile) for smile in smiles]\n",
    "fps = [AllChem.GetMorganFingerprintAsBitVect(mol, 2) for mol in mols]\n",
    "vals = np.array([[int(num) for num in list(fp.ToBitString())] for fp in fps])"
   ]
  },
  {
   "cell_type": "code",
   "execution_count": null,
   "metadata": {
    "collapsed": false
   },
   "outputs": [],
   "source": [
    "cols = ['feat_'+str(i+1) for i in range(2048)]\n",
    "df = pd.DataFrame(vals, columns=cols)\n",
    "df['smiles'] = df_test_sub['smiles']\n",
    "df['Id'] = range(1, len(df['smiles'])+1)\n",
    "df = df.set_index('Id')\n",
    "df.to_csv(\"test_2048.csv\")"
   ]
  }
 ],
 "metadata": {
  "kernelspec": {
   "display_name": "Python 2",
   "language": "python",
   "name": "python2"
  },
  "language_info": {
   "codemirror_mode": {
    "name": "ipython",
    "version": 2
   },
   "file_extension": ".py",
   "mimetype": "text/x-python",
   "name": "python",
   "nbconvert_exporter": "python",
   "pygments_lexer": "ipython2",
   "version": "2.7.9"
  }
 },
 "nbformat": 4,
 "nbformat_minor": 0
}

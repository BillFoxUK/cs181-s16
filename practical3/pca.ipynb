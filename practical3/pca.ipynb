{
 "cells": [
  {
   "cell_type": "code",
   "execution_count": 1,
   "metadata": {
    "collapsed": true
   },
   "outputs": [],
   "source": [
    "import numpy\n",
    "import pandas\n",
    "import csv\n",
    "from sklearn.preprocessing import Imputer\n",
    "from sklearn.decomposition import IncrementalPCA   "
   ]
  },
  {
   "cell_type": "code",
   "execution_count": 2,
   "metadata": {
    "collapsed": true
   },
   "outputs": [],
   "source": [
    "train_file = 'train.csv'\n",
    "test_file  = 'test.csv'\n",
    "soln_file  = 'nmf.csv'\n",
    "\n",
    "# Load the training data.\n",
    "train_data = {}\n",
    "with open(train_file, 'r') as train_fh:\n",
    "    train_csv = csv.reader(train_fh, delimiter=',', quotechar='\"')\n",
    "    next(train_csv, None)\n",
    "    for row in train_csv:\n",
    "        user   = row[0]\n",
    "        artist = row[1]\n",
    "        plays  = row[2]\n",
    "    \n",
    "        if not user in train_data:\n",
    "            train_data[user] = {}\n",
    "        \n",
    "        train_data[user][artist] = int(plays)\n",
    "\n",
    "# Compute per-user median.\n",
    "user_medians = {}\n",
    "user_mins = {}\n",
    "user_maxs = {}\n",
    "for user, user_data in train_data.iteritems():\n",
    "    user_plays = []\n",
    "    for artist, plays in user_data.iteritems():\n",
    "        user_plays.append(plays)\n",
    "    user_medians[user] = numpy.median(numpy.array(user_plays))\n",
    "    user_mins[user] = numpy.min(numpy.array(user_plays))\n",
    "    user_maxs[user] = numpy.max(numpy.array(user_plays))"
   ]
  },
  {
   "cell_type": "code",
   "execution_count": 3,
   "metadata": {
    "collapsed": true
   },
   "outputs": [],
   "source": [
    "# Preprocessing\n",
    "df = pandas.DataFrame.from_dict(train_data)\n",
    "df = df.fillna(df.median())"
   ]
  },
  {
   "cell_type": "code",
   "execution_count": 4,
   "metadata": {
    "collapsed": false
   },
   "outputs": [],
   "source": [
    "for user in df.columns:\n",
    "    df[user] = (df[user] - user_mins[user]) / ()\n",
    "R = numpy.array(df.values)"
   ]
  },
  {
   "cell_type": "code",
   "execution_count": 5,
   "metadata": {
    "collapsed": false
   },
   "outputs": [],
   "source": [
    "# Decomposition\n",
    "model = IncrementalPCA()\n",
    "R = model.fit_transform(R)"
   ]
  },
  {
   "cell_type": "code",
   "execution_count": 6,
   "metadata": {
    "collapsed": true
   },
   "outputs": [],
   "source": [
    "R = model.inverse_transform(R)"
   ]
  },
  {
   "cell_type": "code",
   "execution_count": 7,
   "metadata": {
    "collapsed": false
   },
   "outputs": [],
   "source": [
    "# Reconstruction\n",
    "df = pandas.DataFrame(data=R, index=df.index, columns=df.columns)\n",
    "del R\n",
    "for user in df.columns:\n",
    "    df[user] = (df[user] + 1.) * user_medians[user]"
   ]
  },
  {
   "cell_type": "code",
   "execution_count": 8,
   "metadata": {
    "collapsed": true
   },
   "outputs": [],
   "source": [
    "# Write out test solutions.\n",
    "with open(test_file, 'r') as test_fh:\n",
    "    test_csv = csv.reader(test_fh, delimiter=',', quotechar='\"')\n",
    "    next(test_csv, None)\n",
    "\n",
    "    with open(soln_file, 'w') as soln_fh:\n",
    "        soln_csv = csv.writer(soln_fh, delimiter=',', quotechar='\"', quoting=csv.QUOTE_MINIMAL)\n",
    "        soln_csv.writerow(['Id', 'plays'])\n",
    "\n",
    "        for row in test_csv:\n",
    "            id     = row[0]\n",
    "            user   = row[1]\n",
    "            artist = row[2]\n",
    "            res    = df.loc[artist, user]\n",
    "            soln_csv.writerow([id, res])"
   ]
  }
 ],
 "metadata": {
  "kernelspec": {
   "display_name": "Python 2",
   "language": "python",
   "name": "python2"
  },
  "language_info": {
   "codemirror_mode": {
    "name": "ipython",
    "version": 2
   },
   "file_extension": ".py",
   "mimetype": "text/x-python",
   "name": "python",
   "nbconvert_exporter": "python",
   "pygments_lexer": "ipython2",
   "version": "2.7.9"
  }
 },
 "nbformat": 4,
 "nbformat_minor": 0
}

{
 "cells": [
  {
   "cell_type": "code",
   "execution_count": 1,
   "metadata": {
    "collapsed": true
   },
   "outputs": [],
   "source": [
    "import recsys.algorithm\n",
    "recsys.algorithm.VERBOSE = True"
   ]
  },
  {
   "cell_type": "code",
   "execution_count": 2,
   "metadata": {
    "collapsed": false
   },
   "outputs": [
    {
     "name": "stdout",
     "output_type": "stream",
     "text": [
      "Loading train.csv\n",
      "\n",
      "Error while reading (plays, artist, user). Skipping this tuple\n",
      "..........|..........|..........|..........|.\n"
     ]
    }
   ],
   "source": [
    "from recsys.algorithm.factorize import SVD\n",
    "svd = SVD()\n",
    "# svd.load_data(filename='./data/movielens/ratings.dat', sep='::', format={'col':0, 'row':1, 'value':2, 'ids': int})\n",
    "svd.load_data(filename='train.csv', sep=',', format={'col':0, 'row':1, 'value':2})"
   ]
  },
  {
   "cell_type": "code",
   "execution_count": 13,
   "metadata": {
    "collapsed": false
   },
   "outputs": [
    {
     "name": "stdout",
     "output_type": "stream",
     "text": [
      "Creating matrix (4154804 tuples)\n",
      "Matrix density is: 0.8905%\n",
      "Computing svd k=2000, min_values=None, pre_normalize=None, mean_center=True, post_normalize=True\n",
      "[WARNING] min_values is set to None, meaning that some funky recommendations might appear!\n",
      "[WARNING] mean_center is True. svd.similar(...) might return nan's. If so, then do svd.compute(..., mean_center=False)\n"
     ]
    }
   ],
   "source": [
    "k = 2000\n",
    "svd.compute(k=k, pre_normalize=None, mean_center=True, post_normalize=True)"
   ]
  },
  {
   "cell_type": "code",
   "execution_count": 15,
   "metadata": {
    "collapsed": false
   },
   "outputs": [
    {
     "data": {
      "text/plain": [
       "1025.1158565927308"
      ]
     },
     "execution_count": 15,
     "metadata": {},
     "output_type": "execute_result"
    }
   ],
   "source": [
    "MIN_RATING = 0.0\n",
    "ITEMID = '5a8e07d5-d932-4484-a7f7-e700793a9c94'\n",
    "USERID = 'eb1c57ddc9e0e2d005169d3a1a96e8dd95e3af03'\n",
    "svd.predict(ITEMID, USERID, MIN_RATING)"
   ]
  },
  {
   "cell_type": "code",
   "execution_count": 5,
   "metadata": {
    "collapsed": false
   },
   "outputs": [],
   "source": [
    "import csv\n",
    "test_file = 'test.csv'\n",
    "soln_file = 'recsys.csv'\n",
    "\n",
    "with open(test_file, 'r') as test_fh:\n",
    "    test_csv = csv.reader(test_fh, delimiter=',', quotechar='\"')\n",
    "    next(test_csv, None)\n",
    "\n",
    "    with open(soln_file, 'w') as soln_fh:\n",
    "        soln_csv = csv.writer(soln_fh, delimiter=',', quotechar='\"', quoting=csv.QUOTE_MINIMAL)\n",
    "        soln_csv.writerow(['Id', 'plays'])\n",
    "\n",
    "        for row in test_csv:\n",
    "            id     = row[0]\n",
    "            user   = row[1]\n",
    "            artist = row[2]\n",
    "            res    = svd.predict(artist, user)\n",
    "            if res < 0:\n",
    "                res = 0.\n",
    "            soln_csv.writerow([id, res])"
   ]
  }
 ],
 "metadata": {
  "kernelspec": {
   "display_name": "Python 2",
   "language": "python",
   "name": "python2"
  },
  "language_info": {
   "codemirror_mode": {
    "name": "ipython",
    "version": 2
   },
   "file_extension": ".py",
   "mimetype": "text/x-python",
   "name": "python",
   "nbconvert_exporter": "python",
   "pygments_lexer": "ipython2",
   "version": "2.7.9"
  }
 },
 "nbformat": 4,
 "nbformat_minor": 0
}
